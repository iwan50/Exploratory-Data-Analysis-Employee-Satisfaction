{
 "cells": [
  {
   "cell_type": "markdown",
   "metadata": {},
   "source": [
    "# Exploratory Data Analysis Satisfaction"
   ]
  },
  {
   "cell_type": "markdown",
   "metadata": {},
   "source": [
    "Data indeks kepuasan karyawan di suatu perusahaan"
   ]
  },
  {
   "cell_type": "markdown",
   "metadata": {},
   "source": [
    "## Problem"
   ]
  },
  {
   "cell_type": "markdown",
   "metadata": {},
   "source": [
    "- Kepuasan karyawan menjadi faktor yang sangat penting dalam sebuah perusahaan, karena faktor tersebut akan menunjang produktivitas karyawan yang berdampak dalam keberhasilan KPI perusahaan."
   ]
  },
  {
   "cell_type": "markdown",
   "metadata": {},
   "source": [
    "## Goals"
   ]
  },
  {
   "cell_type": "markdown",
   "metadata": {},
   "source": [
    "- Melakukan analisa untuk mendapatkan penyebab / faktor kepuasan dan ketidakpuasan karyawan"
   ]
  },
  {
   "cell_type": "markdown",
   "metadata": {},
   "source": [
    "### Import Package"
   ]
  },
  {
   "cell_type": "code",
   "execution_count": 1,
   "metadata": {},
   "outputs": [],
   "source": [
    "import numpy as np\n",
    "import pandas as pd\n",
    "import matplotlib.pyplot as plt\n",
    "import seaborn as sns\n",
    "\n",
    "%matplotlib inline"
   ]
  },
  {
   "cell_type": "code",
   "execution_count": 2,
   "metadata": {},
   "outputs": [],
   "source": [
    "df = pd.read_csv(\"satisfaction.csv\")"
   ]
  },
  {
   "cell_type": "code",
   "execution_count": 3,
   "metadata": {},
   "outputs": [
    {
     "data": {
      "text/html": [
       "<div>\n",
       "<style scoped>\n",
       "    .dataframe tbody tr th:only-of-type {\n",
       "        vertical-align: middle;\n",
       "    }\n",
       "\n",
       "    .dataframe tbody tr th {\n",
       "        vertical-align: top;\n",
       "    }\n",
       "\n",
       "    .dataframe thead th {\n",
       "        text-align: right;\n",
       "    }\n",
       "</style>\n",
       "<table border=\"1\" class=\"dataframe\">\n",
       "  <thead>\n",
       "    <tr style=\"text-align: right;\">\n",
       "      <th></th>\n",
       "      <th>Unnamed: 0</th>\n",
       "      <th>emp_id</th>\n",
       "      <th>age</th>\n",
       "      <th>Dept</th>\n",
       "      <th>location</th>\n",
       "      <th>education</th>\n",
       "      <th>recruitment_type</th>\n",
       "      <th>job_level</th>\n",
       "      <th>rating</th>\n",
       "      <th>onsite</th>\n",
       "      <th>awards</th>\n",
       "      <th>certifications</th>\n",
       "      <th>salary</th>\n",
       "      <th>satisfied</th>\n",
       "    </tr>\n",
       "  </thead>\n",
       "  <tbody>\n",
       "    <tr>\n",
       "      <th>0</th>\n",
       "      <td>0</td>\n",
       "      <td>HR8270</td>\n",
       "      <td>28</td>\n",
       "      <td>HR</td>\n",
       "      <td>Suburb</td>\n",
       "      <td>PG</td>\n",
       "      <td>Referral</td>\n",
       "      <td>5</td>\n",
       "      <td>2</td>\n",
       "      <td>0</td>\n",
       "      <td>1</td>\n",
       "      <td>0</td>\n",
       "      <td>86750</td>\n",
       "      <td>1</td>\n",
       "    </tr>\n",
       "    <tr>\n",
       "      <th>1</th>\n",
       "      <td>1</td>\n",
       "      <td>TECH1860</td>\n",
       "      <td>50</td>\n",
       "      <td>Technology</td>\n",
       "      <td>Suburb</td>\n",
       "      <td>PG</td>\n",
       "      <td>Walk-in</td>\n",
       "      <td>3</td>\n",
       "      <td>5</td>\n",
       "      <td>1</td>\n",
       "      <td>2</td>\n",
       "      <td>1</td>\n",
       "      <td>42419</td>\n",
       "      <td>0</td>\n",
       "    </tr>\n",
       "    <tr>\n",
       "      <th>2</th>\n",
       "      <td>2</td>\n",
       "      <td>TECH6390</td>\n",
       "      <td>43</td>\n",
       "      <td>Technology</td>\n",
       "      <td>Suburb</td>\n",
       "      <td>UG</td>\n",
       "      <td>Referral</td>\n",
       "      <td>4</td>\n",
       "      <td>1</td>\n",
       "      <td>0</td>\n",
       "      <td>2</td>\n",
       "      <td>0</td>\n",
       "      <td>65715</td>\n",
       "      <td>0</td>\n",
       "    </tr>\n",
       "    <tr>\n",
       "      <th>3</th>\n",
       "      <td>3</td>\n",
       "      <td>SAL6191</td>\n",
       "      <td>44</td>\n",
       "      <td>Sales</td>\n",
       "      <td>City</td>\n",
       "      <td>PG</td>\n",
       "      <td>On-Campus</td>\n",
       "      <td>2</td>\n",
       "      <td>3</td>\n",
       "      <td>1</td>\n",
       "      <td>0</td>\n",
       "      <td>0</td>\n",
       "      <td>29805</td>\n",
       "      <td>1</td>\n",
       "    </tr>\n",
       "    <tr>\n",
       "      <th>4</th>\n",
       "      <td>4</td>\n",
       "      <td>HR6734</td>\n",
       "      <td>33</td>\n",
       "      <td>HR</td>\n",
       "      <td>City</td>\n",
       "      <td>UG</td>\n",
       "      <td>Recruitment Agency</td>\n",
       "      <td>2</td>\n",
       "      <td>1</td>\n",
       "      <td>0</td>\n",
       "      <td>5</td>\n",
       "      <td>0</td>\n",
       "      <td>29805</td>\n",
       "      <td>1</td>\n",
       "    </tr>\n",
       "  </tbody>\n",
       "</table>\n",
       "</div>"
      ],
      "text/plain": [
       "   Unnamed: 0    emp_id  age        Dept location education  \\\n",
       "0           0    HR8270   28          HR   Suburb        PG   \n",
       "1           1  TECH1860   50  Technology   Suburb        PG   \n",
       "2           2  TECH6390   43  Technology   Suburb        UG   \n",
       "3           3   SAL6191   44       Sales     City        PG   \n",
       "4           4    HR6734   33          HR     City        UG   \n",
       "\n",
       "     recruitment_type  job_level  rating  onsite  awards  certifications  \\\n",
       "0            Referral          5       2       0       1               0   \n",
       "1             Walk-in          3       5       1       2               1   \n",
       "2            Referral          4       1       0       2               0   \n",
       "3           On-Campus          2       3       1       0               0   \n",
       "4  Recruitment Agency          2       1       0       5               0   \n",
       "\n",
       "   salary  satisfied  \n",
       "0   86750          1  \n",
       "1   42419          0  \n",
       "2   65715          0  \n",
       "3   29805          1  \n",
       "4   29805          1  "
      ]
     },
     "execution_count": 3,
     "metadata": {},
     "output_type": "execute_result"
    }
   ],
   "source": [
    "df.head()"
   ]
  },
  {
   "cell_type": "markdown",
   "metadata": {},
   "source": [
    "### Deskripsi Kolom"
   ]
  },
  {
   "attachments": {
    "image.png": {
     "image/png": "[encoded data removed]"
    }
   },
   "cell_type": "markdown",
   "metadata": {},
   "source": [
    "![image.png](attachment:image.png)"
   ]
  },
  {
   "cell_type": "code",
   "execution_count": 4,
   "metadata": {},
   "outputs": [
    {
     "data": {
      "text/plain": [
       "(500, 14)"
      ]
     },
     "execution_count": 4,
     "metadata": {},
     "output_type": "execute_result"
    }
   ],
   "source": [
    "df.shape"
   ]
  },
  {
   "cell_type": "markdown",
   "metadata": {},
   "source": [
    "*Terdapat 500 baris dan 14 kolom*"
   ]
  },
  {
   "cell_type": "code",
   "execution_count": 5,
   "metadata": {},
   "outputs": [
    {
     "name": "stdout",
     "output_type": "stream",
     "text": [
      "<class 'pandas.core.frame.DataFrame'>\n",
      "RangeIndex: 500 entries, 0 to 499\n",
      "Data columns (total 14 columns):\n",
      " #   Column            Non-Null Count  Dtype \n",
      "---  ------            --------------  ----- \n",
      " 0   Unnamed: 0        500 non-null    int64 \n",
      " 1   emp_id            500 non-null    object\n",
      " 2   age               500 non-null    int64 \n",
      " 3   Dept              500 non-null    object\n",
      " 4   location          500 non-null    object\n",
      " 5   education         500 non-null    object\n",
      " 6   recruitment_type  500 non-null    object\n",
      " 7   job_level         500 non-null    int64 \n",
      " 8   rating            500 non-null    int64 \n",
      " 9   onsite            500 non-null    int64 \n",
      " 10  awards            500 non-null    int64 \n",
      " 11  certifications    500 non-null    int64 \n",
      " 12  salary            500 non-null    int64 \n",
      " 13  satisfied         500 non-null    int64 \n",
      "dtypes: int64(9), object(5)\n",
      "memory usage: 45.0+ KB\n"
     ]
    }
   ],
   "source": [
    "df.info()"
   ]
  },
  {
   "cell_type": "markdown",
   "metadata": {},
   "source": [
    "## Cek Missing Value"
   ]
  },
  {
   "cell_type": "code",
   "execution_count": 6,
   "metadata": {},
   "outputs": [
    {
     "data": {
      "text/plain": [
       "Unnamed: 0          0\n",
       "emp_id              0\n",
       "age                 0\n",
       "Dept                0\n",
       "location            0\n",
       "education           0\n",
       "recruitment_type    0\n",
       "job_level           0\n",
       "rating              0\n",
       "onsite              0\n",
       "awards              0\n",
       "certifications      0\n",
       "salary              0\n",
       "satisfied           0\n",
       "dtype: int64"
      ]
     },
     "execution_count": 6,
     "metadata": {},
     "output_type": "execute_result"
    }
   ],
   "source": [
    "df.isna().sum()"
   ]
  },
  {
   "cell_type": "code",
   "execution_count": 7,
   "metadata": {},
   "outputs": [
    {
     "data": {
      "text/plain": [
       "Unnamed: 0          0\n",
       "emp_id              0\n",
       "age                 0\n",
       "Dept                0\n",
       "location            0\n",
       "education           0\n",
       "recruitment_type    0\n",
       "job_level           0\n",
       "rating              0\n",
       "onsite              0\n",
       "awards              0\n",
       "certifications      0\n",
       "salary              0\n",
       "satisfied           0\n",
       "dtype: int64"
      ]
     },
     "execution_count": 7,
     "metadata": {},
     "output_type": "execute_result"
    }
   ],
   "source": [
    "df.isnull().sum()"
   ]
  },
  {
   "cell_type": "markdown",
   "metadata": {},
   "source": [
    "*Tidak ada missing value dalam data tsb*"
   ]
  },
  {
   "cell_type": "markdown",
   "metadata": {},
   "source": [
    "## Deskripsi Data"
   ]
  },
  {
   "cell_type": "code",
   "execution_count": 8,
   "metadata": {},
   "outputs": [],
   "source": [
    "dataDesc = []\n",
    "\n",
    "for i in df.columns:\n",
    "    dataDesc.append([\n",
    "        i,\n",
    "        df[i].dtypes,\n",
    "        df[i].isnull().sum(),\n",
    "        round((((df[i].isnull().sum()) / (len(df))) * 100), 2),\n",
    "        df[i].nunique(),\n",
    "        df[i].unique()\n",
    "    ])\n",
    "\n"
   ]
  },
  {
   "cell_type": "code",
   "execution_count": 9,
   "metadata": {},
   "outputs": [
    {
     "data": {
      "text/html": [
       "<div>\n",
       "<style scoped>\n",
       "    .dataframe tbody tr th:only-of-type {\n",
       "        vertical-align: middle;\n",
       "    }\n",
       "\n",
       "    .dataframe tbody tr th {\n",
       "        vertical-align: top;\n",
       "    }\n",
       "\n",
       "    .dataframe thead th {\n",
       "        text-align: right;\n",
       "    }\n",
       "</style>\n",
       "<table border=\"1\" class=\"dataframe\">\n",
       "  <thead>\n",
       "    <tr style=\"text-align: right;\">\n",
       "      <th></th>\n",
       "      <th>Data Features</th>\n",
       "      <th>Data Types</th>\n",
       "      <th>Null</th>\n",
       "      <th>Null Percentage</th>\n",
       "      <th>Unique</th>\n",
       "      <th>Unique Sample</th>\n",
       "    </tr>\n",
       "  </thead>\n",
       "  <tbody>\n",
       "    <tr>\n",
       "      <th>0</th>\n",
       "      <td>Unnamed: 0</td>\n",
       "      <td>int64</td>\n",
       "      <td>0</td>\n",
       "      <td>0.0</td>\n",
       "      <td>500</td>\n",
       "      <td>[0, 1, 2, 3, 4, 5, 6, 7, 8, 9, 10, 11, 12, 13,...</td>\n",
       "    </tr>\n",
       "    <tr>\n",
       "      <th>1</th>\n",
       "      <td>emp_id</td>\n",
       "      <td>object</td>\n",
       "      <td>0</td>\n",
       "      <td>0.0</td>\n",
       "      <td>499</td>\n",
       "      <td>[HR8270, TECH1860, TECH6390, SAL6191, HR6734, ...</td>\n",
       "    </tr>\n",
       "    <tr>\n",
       "      <th>2</th>\n",
       "      <td>age</td>\n",
       "      <td>int64</td>\n",
       "      <td>0</td>\n",
       "      <td>0.0</td>\n",
       "      <td>32</td>\n",
       "      <td>[28, 50, 43, 44, 33, 40, 26, 25, 35, 45, 31, 4...</td>\n",
       "    </tr>\n",
       "    <tr>\n",
       "      <th>3</th>\n",
       "      <td>Dept</td>\n",
       "      <td>object</td>\n",
       "      <td>0</td>\n",
       "      <td>0.0</td>\n",
       "      <td>5</td>\n",
       "      <td>[HR, Technology, Sales, Purchasing, Marketing]</td>\n",
       "    </tr>\n",
       "    <tr>\n",
       "      <th>4</th>\n",
       "      <td>location</td>\n",
       "      <td>object</td>\n",
       "      <td>0</td>\n",
       "      <td>0.0</td>\n",
       "      <td>2</td>\n",
       "      <td>[Suburb, City]</td>\n",
       "    </tr>\n",
       "    <tr>\n",
       "      <th>5</th>\n",
       "      <td>education</td>\n",
       "      <td>object</td>\n",
       "      <td>0</td>\n",
       "      <td>0.0</td>\n",
       "      <td>2</td>\n",
       "      <td>[PG, UG]</td>\n",
       "    </tr>\n",
       "    <tr>\n",
       "      <th>6</th>\n",
       "      <td>recruitment_type</td>\n",
       "      <td>object</td>\n",
       "      <td>0</td>\n",
       "      <td>0.0</td>\n",
       "      <td>4</td>\n",
       "      <td>[Referral, Walk-in, On-Campus, Recruitment Age...</td>\n",
       "    </tr>\n",
       "    <tr>\n",
       "      <th>7</th>\n",
       "      <td>job_level</td>\n",
       "      <td>int64</td>\n",
       "      <td>0</td>\n",
       "      <td>0.0</td>\n",
       "      <td>5</td>\n",
       "      <td>[5, 3, 4, 2, 1]</td>\n",
       "    </tr>\n",
       "    <tr>\n",
       "      <th>8</th>\n",
       "      <td>rating</td>\n",
       "      <td>int64</td>\n",
       "      <td>0</td>\n",
       "      <td>0.0</td>\n",
       "      <td>5</td>\n",
       "      <td>[2, 5, 1, 3, 4]</td>\n",
       "    </tr>\n",
       "    <tr>\n",
       "      <th>9</th>\n",
       "      <td>onsite</td>\n",
       "      <td>int64</td>\n",
       "      <td>0</td>\n",
       "      <td>0.0</td>\n",
       "      <td>2</td>\n",
       "      <td>[0, 1]</td>\n",
       "    </tr>\n",
       "    <tr>\n",
       "      <th>10</th>\n",
       "      <td>awards</td>\n",
       "      <td>int64</td>\n",
       "      <td>0</td>\n",
       "      <td>0.0</td>\n",
       "      <td>10</td>\n",
       "      <td>[1, 2, 0, 5, 7, 4, 9, 6, 8, 3]</td>\n",
       "    </tr>\n",
       "    <tr>\n",
       "      <th>11</th>\n",
       "      <td>certifications</td>\n",
       "      <td>int64</td>\n",
       "      <td>0</td>\n",
       "      <td>0.0</td>\n",
       "      <td>2</td>\n",
       "      <td>[0, 1]</td>\n",
       "    </tr>\n",
       "    <tr>\n",
       "      <th>12</th>\n",
       "      <td>salary</td>\n",
       "      <td>int64</td>\n",
       "      <td>0</td>\n",
       "      <td>0.0</td>\n",
       "      <td>5</td>\n",
       "      <td>[86750, 42419, 65715, 29805, 24076]</td>\n",
       "    </tr>\n",
       "    <tr>\n",
       "      <th>13</th>\n",
       "      <td>satisfied</td>\n",
       "      <td>int64</td>\n",
       "      <td>0</td>\n",
       "      <td>0.0</td>\n",
       "      <td>2</td>\n",
       "      <td>[1, 0]</td>\n",
       "    </tr>\n",
       "  </tbody>\n",
       "</table>\n",
       "</div>"
      ],
      "text/plain": [
       "       Data Features Data Types  Null  Null Percentage  Unique  \\\n",
       "0         Unnamed: 0      int64     0              0.0     500   \n",
       "1             emp_id     object     0              0.0     499   \n",
       "2                age      int64     0              0.0      32   \n",
       "3               Dept     object     0              0.0       5   \n",
       "4           location     object     0              0.0       2   \n",
       "5          education     object     0              0.0       2   \n",
       "6   recruitment_type     object     0              0.0       4   \n",
       "7          job_level      int64     0              0.0       5   \n",
       "8             rating      int64     0              0.0       5   \n",
       "9             onsite      int64     0              0.0       2   \n",
       "10            awards      int64     0              0.0      10   \n",
       "11    certifications      int64     0              0.0       2   \n",
       "12            salary      int64     0              0.0       5   \n",
       "13         satisfied      int64     0              0.0       2   \n",
       "\n",
       "                                        Unique Sample  \n",
       "0   [0, 1, 2, 3, 4, 5, 6, 7, 8, 9, 10, 11, 12, 13,...  \n",
       "1   [HR8270, TECH1860, TECH6390, SAL6191, HR6734, ...  \n",
       "2   [28, 50, 43, 44, 33, 40, 26, 25, 35, 45, 31, 4...  \n",
       "3      [HR, Technology, Sales, Purchasing, Marketing]  \n",
       "4                                      [Suburb, City]  \n",
       "5                                            [PG, UG]  \n",
       "6   [Referral, Walk-in, On-Campus, Recruitment Age...  \n",
       "7                                     [5, 3, 4, 2, 1]  \n",
       "8                                     [2, 5, 1, 3, 4]  \n",
       "9                                              [0, 1]  \n",
       "10                     [1, 2, 0, 5, 7, 4, 9, 6, 8, 3]  \n",
       "11                                             [0, 1]  \n",
       "12                [86750, 42419, 65715, 29805, 24076]  \n",
       "13                                             [1, 0]  "
      ]
     },
     "execution_count": 9,
     "metadata": {},
     "output_type": "execute_result"
    }
   ],
   "source": [
    "pd.DataFrame(dataDesc, columns=[\n",
    "    'Data Features',\n",
    "    'Data Types',\n",
    "    'Null',\n",
    "    'Null Percentage',\n",
    "    'Unique',\n",
    "    'Unique Sample'\n",
    "] )"
   ]
  },
  {
   "cell_type": "markdown",
   "metadata": {},
   "source": [
    "## Drop Kolom"
   ]
  },
  {
   "cell_type": "markdown",
   "metadata": {},
   "source": [
    "- Drop kolom yang dirasa tidak diperlukan\n",
    "- Unnamed: 0"
   ]
  },
  {
   "cell_type": "markdown",
   "metadata": {},
   "source": [
    "## Indexing"
   ]
  },
  {
   "cell_type": "markdown",
   "metadata": {},
   "source": [
    "- Menjadikan kolom \"emp_id\" sebagai index"
   ]
  },
  {
   "cell_type": "markdown",
   "metadata": {},
   "source": [
    "## Cek Outliers"
   ]
  },
  {
   "cell_type": "code",
   "execution_count": 36,
   "metadata": {},
   "outputs": [
    {
     "data": {
      "image/png": "[encoded data removed]",
      "text/plain": [
       "<Figure size 720x468 with 4 Axes>"
      ]
     },
     "metadata": {
      "needs_background": "light"
     },
     "output_type": "display_data"
    }
   ],
   "source": [
    "f, axes = plt.subplots(1, 4, figsize = (10,6.5))\n",
    "f.tight_layout(pad=2.8)\n",
    "sns.boxplot(y= df[\"age\"],       orient =\"v\",ax=axes[0],palette = \"Blues_r\")\n",
    "sns.boxplot(y= df[\"job_level\"], orient =\"v\",ax=axes[1],palette = \"Blues_r\")\n",
    "sns.boxplot(y= df[\"rating\"],    orient =\"v\",ax=axes[2],palette = \"Blues_r\")\n",
    "sns.boxplot(y= df[\"onsite\"],    orient =\"v\",ax=axes[3],palette = \"Blues_r\")\n",
    "plt.show()"
   ]
  },
  {
   "cell_type": "markdown",
   "metadata": {},
   "source": [
    "- Tidak ada outliers dalam kolom age, job_level, rating dan onsite"
   ]
  },
  {
   "cell_type": "code",
   "execution_count": 37,
   "metadata": {},
   "outputs": [
    {
     "data": {
      "image/png": "[encoded data removed]",
      "text/plain": [
       "<Figure size 720x468 with 4 Axes>"
      ]
     },
     "metadata": {
      "needs_background": "light"
     },
     "output_type": "display_data"
    }
   ],
   "source": [
    "f, axes = plt.subplots(1, 4, figsize = (10,6.5))\n",
    "f.tight_layout(pad=2.8)\n",
    "sns.boxplot(y= df[\"awards\"], orient =\"v\", ax=axes[0], palette = \"Blues_r\")\n",
    "sns.boxplot(y= df[\"certifications\"], orient =\"v\", ax=axes[1], palette = \"Blues_r\")\n",
    "sns.boxplot(y= df[\"salary\"], orient =\"v\", ax=axes[2], palette = \"Blues_r\")\n",
    "sns.boxplot(y= df[\"satisfied\"], orient =\"v\", ax=axes[3], palette = \"Blues_r\")\n",
    "plt.show()"
   ]
  },
  {
   "cell_type": "markdown",
   "metadata": {},
   "source": [
    "- Tidak ada outliers dalam kolom awards, certifications, salary dan satisfied\n",
    "- Sehingga keseluruhan tidak ada data yang outliers"
   ]
  },
  {
   "cell_type": "markdown",
   "metadata": {},
   "source": [
    "## Cek Duplikasi Data"
   ]
  },
  {
   "cell_type": "code",
   "execution_count": 13,
   "metadata": {},
   "outputs": [
    {
     "name": "stdout",
     "output_type": "stream",
     "text": [
      "False    500\n",
      "dtype: int64\n"
     ]
    }
   ],
   "source": [
    "print(df.duplicated().value_counts())"
   ]
  },
  {
   "cell_type": "markdown",
   "metadata": {},
   "source": [
    "- Tidak ada data duplikat\n",
    "- Data sudah bersih"
   ]
  },
  {
   "cell_type": "markdown",
   "metadata": {},
   "source": [
    "## Analisa Data"
   ]
  },
  {
   "cell_type": "code",
   "execution_count": 4,
   "metadata": {},
   "outputs": [],
   "source": [
    "satisfied_pr = df[\"satisfied\"].value_counts(normalize = True)*100"
   ]
  },
  {
   "cell_type": "code",
   "execution_count": 5,
   "metadata": {},
   "outputs": [
    {
     "data": {
      "text/plain": [
       "1    52.6\n",
       "0    47.4\n",
       "Name: satisfied, dtype: float64"
      ]
     },
     "execution_count": 5,
     "metadata": {},
     "output_type": "execute_result"
    }
   ],
   "source": [
    "satisfied_pr"
   ]
  },
  {
   "cell_type": "code",
   "execution_count": 6,
   "metadata": {},
   "outputs": [
    {
     "data": {
      "image/png": "[encoded data removed]",
      "text/plain": [
       "<Figure size 432x288 with 1 Axes>"
      ]
     },
     "metadata": {
      "needs_background": "light"
     },
     "output_type": "display_data"
    }
   ],
   "source": [
    "xo = satisfied_pr.index\n",
    "yo = satisfied_pr.values\n",
    "plt.figure(figsize=(6,4))\n",
    "plt.bar(xo, yo,\n",
    "        color=[\"pink\",\"skyblue\"])\n",
    "\n",
    "plt.xlabel(\"satisfied\")\n",
    "plt.ylabel(\"Distribusi satisfied\") \n",
    "plt.title(\"Persentase distribusi satisfied%\")\n",
    "plt.text(0.95, 30, \"52.6%\", color=\"black\",fontweight=\"bold\")\n",
    "plt.text(-0.1, 30, \"47.4%\", color=\"black\",fontweight=\"bold\")\n",
    "\n",
    "plt.show()"
   ]
  },
  {
   "cell_type": "markdown",
   "metadata": {},
   "source": [
    "- **Distribusi diatas menunjukan bahwa index kepuasan karyaawan di perusahaan hanya mencapai 52.6%**\n",
    "- **Artinya hampir setengah karyawan merasa tidak puas bekerja di perusahaan tsb**"
   ]
  },
  {
   "cell_type": "code",
   "execution_count": 10,
   "metadata": {},
   "outputs": [
    {
     "data": {
      "text/plain": [
       "<AxesSubplot:>"
      ]
     },
     "execution_count": 10,
     "metadata": {},
     "output_type": "execute_result"
    },
    {
     "data": {
      "image/png": "[encoded data removed]",
      "text/plain": [
       "<Figure size 1440x864 with 2 Axes>"
      ]
     },
     "metadata": {
      "needs_background": "light"
     },
     "output_type": "display_data"
    }
   ],
   "source": [
    "plt.figure(figsize=(20,12))\n",
    "sns.heatmap(df.corr(), annot=True, cmap='magma')"
   ]
  },
  {
   "cell_type": "code",
   "execution_count": 11,
   "metadata": {},
   "outputs": [],
   "source": [
    "satisfied_0 = df[df[\"satisfied\"] == 0]"
   ]
  },
  {
   "cell_type": "code",
   "execution_count": 17,
   "metadata": {},
   "outputs": [
    {
     "data": {
      "text/html": [
       "<div>\n",
       "<style scoped>\n",
       "    .dataframe tbody tr th:only-of-type {\n",
       "        vertical-align: middle;\n",
       "    }\n",
       "\n",
       "    .dataframe tbody tr th {\n",
       "        vertical-align: top;\n",
       "    }\n",
       "\n",
       "    .dataframe thead th {\n",
       "        text-align: right;\n",
       "    }\n",
       "</style>\n",
       "<table border=\"1\" class=\"dataframe\">\n",
       "  <thead>\n",
       "    <tr style=\"text-align: right;\">\n",
       "      <th></th>\n",
       "      <th>Unnamed: 0</th>\n",
       "      <th>emp_id</th>\n",
       "      <th>age</th>\n",
       "      <th>Dept</th>\n",
       "      <th>location</th>\n",
       "      <th>education</th>\n",
       "      <th>recruitment_type</th>\n",
       "      <th>job_level</th>\n",
       "      <th>rating</th>\n",
       "      <th>onsite</th>\n",
       "      <th>awards</th>\n",
       "      <th>certifications</th>\n",
       "      <th>salary</th>\n",
       "      <th>satisfied</th>\n",
       "    </tr>\n",
       "  </thead>\n",
       "  <tbody>\n",
       "    <tr>\n",
       "      <th>1</th>\n",
       "      <td>1</td>\n",
       "      <td>TECH1860</td>\n",
       "      <td>50</td>\n",
       "      <td>Technology</td>\n",
       "      <td>Suburb</td>\n",
       "      <td>PG</td>\n",
       "      <td>Walk-in</td>\n",
       "      <td>3</td>\n",
       "      <td>5</td>\n",
       "      <td>1</td>\n",
       "      <td>2</td>\n",
       "      <td>1</td>\n",
       "      <td>42419</td>\n",
       "      <td>0</td>\n",
       "    </tr>\n",
       "    <tr>\n",
       "      <th>2</th>\n",
       "      <td>2</td>\n",
       "      <td>TECH6390</td>\n",
       "      <td>43</td>\n",
       "      <td>Technology</td>\n",
       "      <td>Suburb</td>\n",
       "      <td>UG</td>\n",
       "      <td>Referral</td>\n",
       "      <td>4</td>\n",
       "      <td>1</td>\n",
       "      <td>0</td>\n",
       "      <td>2</td>\n",
       "      <td>0</td>\n",
       "      <td>65715</td>\n",
       "      <td>0</td>\n",
       "    </tr>\n",
       "    <tr>\n",
       "      <th>6</th>\n",
       "      <td>6</td>\n",
       "      <td>PUR1466</td>\n",
       "      <td>26</td>\n",
       "      <td>Purchasing</td>\n",
       "      <td>Suburb</td>\n",
       "      <td>UG</td>\n",
       "      <td>Referral</td>\n",
       "      <td>5</td>\n",
       "      <td>5</td>\n",
       "      <td>0</td>\n",
       "      <td>2</td>\n",
       "      <td>0</td>\n",
       "      <td>86750</td>\n",
       "      <td>0</td>\n",
       "    </tr>\n",
       "    <tr>\n",
       "      <th>7</th>\n",
       "      <td>7</td>\n",
       "      <td>TECH5426</td>\n",
       "      <td>25</td>\n",
       "      <td>Technology</td>\n",
       "      <td>City</td>\n",
       "      <td>UG</td>\n",
       "      <td>Recruitment Agency</td>\n",
       "      <td>1</td>\n",
       "      <td>1</td>\n",
       "      <td>0</td>\n",
       "      <td>4</td>\n",
       "      <td>0</td>\n",
       "      <td>24076</td>\n",
       "      <td>0</td>\n",
       "    </tr>\n",
       "    <tr>\n",
       "      <th>9</th>\n",
       "      <td>9</td>\n",
       "      <td>TECH9322</td>\n",
       "      <td>45</td>\n",
       "      <td>Technology</td>\n",
       "      <td>City</td>\n",
       "      <td>PG</td>\n",
       "      <td>Referral</td>\n",
       "      <td>3</td>\n",
       "      <td>3</td>\n",
       "      <td>0</td>\n",
       "      <td>9</td>\n",
       "      <td>0</td>\n",
       "      <td>42419</td>\n",
       "      <td>0</td>\n",
       "    </tr>\n",
       "    <tr>\n",
       "      <th>...</th>\n",
       "      <td>...</td>\n",
       "      <td>...</td>\n",
       "      <td>...</td>\n",
       "      <td>...</td>\n",
       "      <td>...</td>\n",
       "      <td>...</td>\n",
       "      <td>...</td>\n",
       "      <td>...</td>\n",
       "      <td>...</td>\n",
       "      <td>...</td>\n",
       "      <td>...</td>\n",
       "      <td>...</td>\n",
       "      <td>...</td>\n",
       "      <td>...</td>\n",
       "    </tr>\n",
       "    <tr>\n",
       "      <th>491</th>\n",
       "      <td>491</td>\n",
       "      <td>TECH5729</td>\n",
       "      <td>23</td>\n",
       "      <td>Technology</td>\n",
       "      <td>City</td>\n",
       "      <td>PG</td>\n",
       "      <td>On-Campus</td>\n",
       "      <td>3</td>\n",
       "      <td>1</td>\n",
       "      <td>0</td>\n",
       "      <td>7</td>\n",
       "      <td>0</td>\n",
       "      <td>42419</td>\n",
       "      <td>0</td>\n",
       "    </tr>\n",
       "    <tr>\n",
       "      <th>493</th>\n",
       "      <td>493</td>\n",
       "      <td>MKT6334</td>\n",
       "      <td>41</td>\n",
       "      <td>Marketing</td>\n",
       "      <td>City</td>\n",
       "      <td>UG</td>\n",
       "      <td>Walk-in</td>\n",
       "      <td>5</td>\n",
       "      <td>4</td>\n",
       "      <td>0</td>\n",
       "      <td>2</td>\n",
       "      <td>0</td>\n",
       "      <td>86750</td>\n",
       "      <td>0</td>\n",
       "    </tr>\n",
       "    <tr>\n",
       "      <th>496</th>\n",
       "      <td>496</td>\n",
       "      <td>TECH9010</td>\n",
       "      <td>24</td>\n",
       "      <td>Technology</td>\n",
       "      <td>Suburb</td>\n",
       "      <td>UG</td>\n",
       "      <td>Referral</td>\n",
       "      <td>2</td>\n",
       "      <td>4</td>\n",
       "      <td>0</td>\n",
       "      <td>2</td>\n",
       "      <td>0</td>\n",
       "      <td>29805</td>\n",
       "      <td>0</td>\n",
       "    </tr>\n",
       "    <tr>\n",
       "      <th>498</th>\n",
       "      <td>498</td>\n",
       "      <td>TECH5846</td>\n",
       "      <td>26</td>\n",
       "      <td>Technology</td>\n",
       "      <td>City</td>\n",
       "      <td>UG</td>\n",
       "      <td>On-Campus</td>\n",
       "      <td>2</td>\n",
       "      <td>1</td>\n",
       "      <td>1</td>\n",
       "      <td>1</td>\n",
       "      <td>1</td>\n",
       "      <td>29805</td>\n",
       "      <td>0</td>\n",
       "    </tr>\n",
       "    <tr>\n",
       "      <th>499</th>\n",
       "      <td>499</td>\n",
       "      <td>TECH7731</td>\n",
       "      <td>26</td>\n",
       "      <td>Technology</td>\n",
       "      <td>City</td>\n",
       "      <td>UG</td>\n",
       "      <td>Recruitment Agency</td>\n",
       "      <td>3</td>\n",
       "      <td>4</td>\n",
       "      <td>0</td>\n",
       "      <td>3</td>\n",
       "      <td>0</td>\n",
       "      <td>42419</td>\n",
       "      <td>0</td>\n",
       "    </tr>\n",
       "  </tbody>\n",
       "</table>\n",
       "<p>237 rows × 14 columns</p>\n",
       "</div>"
      ],
      "text/plain": [
       "     Unnamed: 0    emp_id  age        Dept location education  \\\n",
       "1             1  TECH1860   50  Technology   Suburb        PG   \n",
       "2             2  TECH6390   43  Technology   Suburb        UG   \n",
       "6             6   PUR1466   26  Purchasing   Suburb        UG   \n",
       "7             7  TECH5426   25  Technology     City        UG   \n",
       "9             9  TECH9322   45  Technology     City        PG   \n",
       "..          ...       ...  ...         ...      ...       ...   \n",
       "491         491  TECH5729   23  Technology     City        PG   \n",
       "493         493   MKT6334   41   Marketing     City        UG   \n",
       "496         496  TECH9010   24  Technology   Suburb        UG   \n",
       "498         498  TECH5846   26  Technology     City        UG   \n",
       "499         499  TECH7731   26  Technology     City        UG   \n",
       "\n",
       "       recruitment_type  job_level  rating  onsite  awards  certifications  \\\n",
       "1               Walk-in          3       5       1       2               1   \n",
       "2              Referral          4       1       0       2               0   \n",
       "6              Referral          5       5       0       2               0   \n",
       "7    Recruitment Agency          1       1       0       4               0   \n",
       "9              Referral          3       3       0       9               0   \n",
       "..                  ...        ...     ...     ...     ...             ...   \n",
       "491           On-Campus          3       1       0       7               0   \n",
       "493             Walk-in          5       4       0       2               0   \n",
       "496            Referral          2       4       0       2               0   \n",
       "498           On-Campus          2       1       1       1               1   \n",
       "499  Recruitment Agency          3       4       0       3               0   \n",
       "\n",
       "     salary  satisfied  \n",
       "1     42419          0  \n",
       "2     65715          0  \n",
       "6     86750          0  \n",
       "7     24076          0  \n",
       "9     42419          0  \n",
       "..      ...        ...  \n",
       "491   42419          0  \n",
       "493   86750          0  \n",
       "496   29805          0  \n",
       "498   29805          0  \n",
       "499   42419          0  \n",
       "\n",
       "[237 rows x 14 columns]"
      ]
     },
     "execution_count": 17,
     "metadata": {},
     "output_type": "execute_result"
    }
   ],
   "source": [
    "satisfied_0"
   ]
  },
  {
   "cell_type": "code",
   "execution_count": 25,
   "metadata": {},
   "outputs": [
    {
     "data": {
      "text/plain": [
       "<seaborn.axisgrid.JointGrid at 0x1c805d48>"
      ]
     },
     "execution_count": 25,
     "metadata": {},
     "output_type": "execute_result"
    },
    {
     "data": {
      "image/png": "[encoded data removed]",
      "text/plain": [
       "<Figure size 432x432 with 3 Axes>"
      ]
     },
     "metadata": {
      "needs_background": "light"
     },
     "output_type": "display_data"
    }
   ],
   "source": [
    "sns.jointplot(x=\"job_level\", y=\"salary\", data=satisfied_0, kind=\"kde\")"
   ]
  },
  {
   "cell_type": "markdown",
   "metadata": {},
   "source": [
    "- Jika dilihat dari persebaran data berdasarkan job level dan salary\n",
    "- Menunjukan bahwa karyawan yang tidak puas banyak di dominasi oleh entry level dan salary dibawah 40000"
   ]
  },
  {
   "cell_type": "code",
   "execution_count": 26,
   "metadata": {},
   "outputs": [],
   "source": [
    "age_mean_0 = satisfied_0[\"age\"].mean()\n",
    "age_median_0 = satisfied_0[\"age\"].median()"
   ]
  },
  {
   "cell_type": "code",
   "execution_count": 28,
   "metadata": {},
   "outputs": [
    {
     "name": "stdout",
     "output_type": "stream",
     "text": [
      "38.565400843881854\n",
      "39.0\n"
     ]
    }
   ],
   "source": [
    "print(age_mean_0)\n",
    "print(age_median_0)"
   ]
  },
  {
   "cell_type": "markdown",
   "metadata": {},
   "source": [
    "- Rata-rata usia karyawan yang tidak puas adalah 38 tahun"
   ]
  },
  {
   "cell_type": "code",
   "execution_count": 35,
   "metadata": {},
   "outputs": [
    {
     "data": {
      "text/html": [
       "<div>\n",
       "<style scoped>\n",
       "    .dataframe tbody tr th:only-of-type {\n",
       "        vertical-align: middle;\n",
       "    }\n",
       "\n",
       "    .dataframe tbody tr th {\n",
       "        vertical-align: top;\n",
       "    }\n",
       "\n",
       "    .dataframe thead th {\n",
       "        text-align: right;\n",
       "    }\n",
       "</style>\n",
       "<table border=\"1\" class=\"dataframe\">\n",
       "  <thead>\n",
       "    <tr style=\"text-align: right;\">\n",
       "      <th>awards</th>\n",
       "      <th>0</th>\n",
       "      <th>1</th>\n",
       "      <th>2</th>\n",
       "      <th>3</th>\n",
       "      <th>4</th>\n",
       "      <th>5</th>\n",
       "      <th>6</th>\n",
       "      <th>7</th>\n",
       "      <th>8</th>\n",
       "      <th>9</th>\n",
       "    </tr>\n",
       "    <tr>\n",
       "      <th>job_level</th>\n",
       "      <th></th>\n",
       "      <th></th>\n",
       "      <th></th>\n",
       "      <th></th>\n",
       "      <th></th>\n",
       "      <th></th>\n",
       "      <th></th>\n",
       "      <th></th>\n",
       "      <th></th>\n",
       "      <th></th>\n",
       "    </tr>\n",
       "  </thead>\n",
       "  <tbody>\n",
       "    <tr>\n",
       "      <th>1</th>\n",
       "      <td>4</td>\n",
       "      <td>4</td>\n",
       "      <td>3</td>\n",
       "      <td>3</td>\n",
       "      <td>4</td>\n",
       "      <td>6</td>\n",
       "      <td>2</td>\n",
       "      <td>5</td>\n",
       "      <td>6</td>\n",
       "      <td>4</td>\n",
       "    </tr>\n",
       "    <tr>\n",
       "      <th>2</th>\n",
       "      <td>4</td>\n",
       "      <td>4</td>\n",
       "      <td>7</td>\n",
       "      <td>12</td>\n",
       "      <td>2</td>\n",
       "      <td>4</td>\n",
       "      <td>7</td>\n",
       "      <td>2</td>\n",
       "      <td>9</td>\n",
       "      <td>6</td>\n",
       "    </tr>\n",
       "    <tr>\n",
       "      <th>3</th>\n",
       "      <td>5</td>\n",
       "      <td>3</td>\n",
       "      <td>6</td>\n",
       "      <td>5</td>\n",
       "      <td>4</td>\n",
       "      <td>1</td>\n",
       "      <td>3</td>\n",
       "      <td>6</td>\n",
       "      <td>5</td>\n",
       "      <td>3</td>\n",
       "    </tr>\n",
       "    <tr>\n",
       "      <th>4</th>\n",
       "      <td>4</td>\n",
       "      <td>3</td>\n",
       "      <td>6</td>\n",
       "      <td>7</td>\n",
       "      <td>6</td>\n",
       "      <td>7</td>\n",
       "      <td>6</td>\n",
       "      <td>3</td>\n",
       "      <td>6</td>\n",
       "      <td>5</td>\n",
       "    </tr>\n",
       "    <tr>\n",
       "      <th>5</th>\n",
       "      <td>3</td>\n",
       "      <td>6</td>\n",
       "      <td>7</td>\n",
       "      <td>5</td>\n",
       "      <td>6</td>\n",
       "      <td>7</td>\n",
       "      <td>1</td>\n",
       "      <td>2</td>\n",
       "      <td>4</td>\n",
       "      <td>4</td>\n",
       "    </tr>\n",
       "  </tbody>\n",
       "</table>\n",
       "</div>"
      ],
      "text/plain": [
       "awards     0  1  2   3  4  5  6  7  8  9\n",
       "job_level                               \n",
       "1          4  4  3   3  4  6  2  5  6  4\n",
       "2          4  4  7  12  2  4  7  2  9  6\n",
       "3          5  3  6   5  4  1  3  6  5  3\n",
       "4          4  3  6   7  6  7  6  3  6  5\n",
       "5          3  6  7   5  6  7  1  2  4  4"
      ]
     },
     "execution_count": 35,
     "metadata": {},
     "output_type": "execute_result"
    }
   ],
   "source": [
    "pd.crosstab(index=satisfied_0[\"job_level\"], columns=satisfied_0[\"awards\"])"
   ]
  },
  {
   "cell_type": "code",
   "execution_count": null,
   "metadata": {},
   "outputs": [],
   "source": [
    "sns.jointplot(x=\"\", y=\"salary\", data=satisfied_0, kind=\"kde\")"
   ]
  },
  {
   "cell_type": "markdown",
   "metadata": {},
   "source": [
    "# numerikal"
   ]
  },
  {
   "cell_type": "markdown",
   "metadata": {},
   "source": [
    "### salary"
   ]
  },
  {
   "cell_type": "code",
   "execution_count": 17,
   "metadata": {},
   "outputs": [
    {
     "data": {
      "text/html": [
       "<div>\n",
       "<style scoped>\n",
       "    .dataframe tbody tr th:only-of-type {\n",
       "        vertical-align: middle;\n",
       "    }\n",
       "\n",
       "    .dataframe tbody tr th {\n",
       "        vertical-align: top;\n",
       "    }\n",
       "\n",
       "    .dataframe thead th {\n",
       "        text-align: right;\n",
       "    }\n",
       "</style>\n",
       "<table border=\"1\" class=\"dataframe\">\n",
       "  <thead>\n",
       "    <tr style=\"text-align: right;\">\n",
       "      <th>satisfied</th>\n",
       "      <th>0</th>\n",
       "      <th>1</th>\n",
       "    </tr>\n",
       "    <tr>\n",
       "      <th>salary</th>\n",
       "      <th></th>\n",
       "      <th></th>\n",
       "    </tr>\n",
       "  </thead>\n",
       "  <tbody>\n",
       "    <tr>\n",
       "      <th>24076</th>\n",
       "      <td>43.16</td>\n",
       "      <td>56.84</td>\n",
       "    </tr>\n",
       "    <tr>\n",
       "      <th>29805</th>\n",
       "      <td>51.82</td>\n",
       "      <td>48.18</td>\n",
       "    </tr>\n",
       "    <tr>\n",
       "      <th>42419</th>\n",
       "      <td>50.00</td>\n",
       "      <td>50.00</td>\n",
       "    </tr>\n",
       "    <tr>\n",
       "      <th>65715</th>\n",
       "      <td>48.18</td>\n",
       "      <td>51.82</td>\n",
       "    </tr>\n",
       "    <tr>\n",
       "      <th>86750</th>\n",
       "      <td>43.69</td>\n",
       "      <td>56.31</td>\n",
       "    </tr>\n",
       "  </tbody>\n",
       "</table>\n",
       "</div>"
      ],
      "text/plain": [
       "satisfied      0      1\n",
       "salary                 \n",
       "24076      43.16  56.84\n",
       "29805      51.82  48.18\n",
       "42419      50.00  50.00\n",
       "65715      48.18  51.82\n",
       "86750      43.69  56.31"
      ]
     },
     "execution_count": 17,
     "metadata": {},
     "output_type": "execute_result"
    }
   ],
   "source": [
    "(pd.crosstab(index=df[\"salary\"], columns=df[\"satisfied\"],normalize='index')*100).round(2)"
   ]
  },
  {
   "cell_type": "markdown",
   "metadata": {},
   "source": [
    "### awards"
   ]
  },
  {
   "cell_type": "code",
   "execution_count": 18,
   "metadata": {},
   "outputs": [
    {
     "data": {
      "text/html": [
       "<div>\n",
       "<style scoped>\n",
       "    .dataframe tbody tr th:only-of-type {\n",
       "        vertical-align: middle;\n",
       "    }\n",
       "\n",
       "    .dataframe tbody tr th {\n",
       "        vertical-align: top;\n",
       "    }\n",
       "\n",
       "    .dataframe thead th {\n",
       "        text-align: right;\n",
       "    }\n",
       "</style>\n",
       "<table border=\"1\" class=\"dataframe\">\n",
       "  <thead>\n",
       "    <tr style=\"text-align: right;\">\n",
       "      <th>satisfied</th>\n",
       "      <th>0</th>\n",
       "      <th>1</th>\n",
       "    </tr>\n",
       "    <tr>\n",
       "      <th>awards</th>\n",
       "      <th></th>\n",
       "      <th></th>\n",
       "    </tr>\n",
       "  </thead>\n",
       "  <tbody>\n",
       "    <tr>\n",
       "      <th>0</th>\n",
       "      <td>38.46</td>\n",
       "      <td>61.54</td>\n",
       "    </tr>\n",
       "    <tr>\n",
       "      <th>1</th>\n",
       "      <td>48.78</td>\n",
       "      <td>51.22</td>\n",
       "    </tr>\n",
       "    <tr>\n",
       "      <th>2</th>\n",
       "      <td>60.42</td>\n",
       "      <td>39.58</td>\n",
       "    </tr>\n",
       "    <tr>\n",
       "      <th>3</th>\n",
       "      <td>56.14</td>\n",
       "      <td>43.86</td>\n",
       "    </tr>\n",
       "    <tr>\n",
       "      <th>4</th>\n",
       "      <td>43.14</td>\n",
       "      <td>56.86</td>\n",
       "    </tr>\n",
       "    <tr>\n",
       "      <th>5</th>\n",
       "      <td>48.08</td>\n",
       "      <td>51.92</td>\n",
       "    </tr>\n",
       "    <tr>\n",
       "      <th>6</th>\n",
       "      <td>41.30</td>\n",
       "      <td>58.70</td>\n",
       "    </tr>\n",
       "    <tr>\n",
       "      <th>7</th>\n",
       "      <td>36.00</td>\n",
       "      <td>64.00</td>\n",
       "    </tr>\n",
       "    <tr>\n",
       "      <th>8</th>\n",
       "      <td>53.57</td>\n",
       "      <td>46.43</td>\n",
       "    </tr>\n",
       "    <tr>\n",
       "      <th>9</th>\n",
       "      <td>46.81</td>\n",
       "      <td>53.19</td>\n",
       "    </tr>\n",
       "  </tbody>\n",
       "</table>\n",
       "</div>"
      ],
      "text/plain": [
       "satisfied      0      1\n",
       "awards                 \n",
       "0          38.46  61.54\n",
       "1          48.78  51.22\n",
       "2          60.42  39.58\n",
       "3          56.14  43.86\n",
       "4          43.14  56.86\n",
       "5          48.08  51.92\n",
       "6          41.30  58.70\n",
       "7          36.00  64.00\n",
       "8          53.57  46.43\n",
       "9          46.81  53.19"
      ]
     },
     "execution_count": 18,
     "metadata": {},
     "output_type": "execute_result"
    }
   ],
   "source": [
    "(pd.crosstab(index=df[\"awards\"], columns=df[\"satisfied\"],normalize='index')*100).round(2)"
   ]
  },
  {
   "cell_type": "markdown",
   "metadata": {},
   "source": [
    "### onsite"
   ]
  },
  {
   "cell_type": "code",
   "execution_count": 19,
   "metadata": {},
   "outputs": [
    {
     "data": {
      "text/html": [
       "<div>\n",
       "<style scoped>\n",
       "    .dataframe tbody tr th:only-of-type {\n",
       "        vertical-align: middle;\n",
       "    }\n",
       "\n",
       "    .dataframe tbody tr th {\n",
       "        vertical-align: top;\n",
       "    }\n",
       "\n",
       "    .dataframe thead th {\n",
       "        text-align: right;\n",
       "    }\n",
       "</style>\n",
       "<table border=\"1\" class=\"dataframe\">\n",
       "  <thead>\n",
       "    <tr style=\"text-align: right;\">\n",
       "      <th>satisfied</th>\n",
       "      <th>0</th>\n",
       "      <th>1</th>\n",
       "    </tr>\n",
       "    <tr>\n",
       "      <th>onsite</th>\n",
       "      <th></th>\n",
       "      <th></th>\n",
       "    </tr>\n",
       "  </thead>\n",
       "  <tbody>\n",
       "    <tr>\n",
       "      <th>0</th>\n",
       "      <td>48.69</td>\n",
       "      <td>51.31</td>\n",
       "    </tr>\n",
       "    <tr>\n",
       "      <th>1</th>\n",
       "      <td>45.92</td>\n",
       "      <td>54.08</td>\n",
       "    </tr>\n",
       "  </tbody>\n",
       "</table>\n",
       "</div>"
      ],
      "text/plain": [
       "satisfied      0      1\n",
       "onsite                 \n",
       "0          48.69  51.31\n",
       "1          45.92  54.08"
      ]
     },
     "execution_count": 19,
     "metadata": {},
     "output_type": "execute_result"
    }
   ],
   "source": [
    "(pd.crosstab(index=df[\"onsite\"], columns=df[\"satisfied\"],normalize='index')*100).round(2)"
   ]
  },
  {
   "cell_type": "markdown",
   "metadata": {},
   "source": [
    "### job level"
   ]
  },
  {
   "cell_type": "code",
   "execution_count": 20,
   "metadata": {},
   "outputs": [
    {
     "data": {
      "text/html": [
       "<div>\n",
       "<style scoped>\n",
       "    .dataframe tbody tr th:only-of-type {\n",
       "        vertical-align: middle;\n",
       "    }\n",
       "\n",
       "    .dataframe tbody tr th {\n",
       "        vertical-align: top;\n",
       "    }\n",
       "\n",
       "    .dataframe thead th {\n",
       "        text-align: right;\n",
       "    }\n",
       "</style>\n",
       "<table border=\"1\" class=\"dataframe\">\n",
       "  <thead>\n",
       "    <tr style=\"text-align: right;\">\n",
       "      <th>satisfied</th>\n",
       "      <th>0</th>\n",
       "      <th>1</th>\n",
       "    </tr>\n",
       "    <tr>\n",
       "      <th>job_level</th>\n",
       "      <th></th>\n",
       "      <th></th>\n",
       "    </tr>\n",
       "  </thead>\n",
       "  <tbody>\n",
       "    <tr>\n",
       "      <th>1</th>\n",
       "      <td>43.16</td>\n",
       "      <td>56.84</td>\n",
       "    </tr>\n",
       "    <tr>\n",
       "      <th>2</th>\n",
       "      <td>51.82</td>\n",
       "      <td>48.18</td>\n",
       "    </tr>\n",
       "    <tr>\n",
       "      <th>3</th>\n",
       "      <td>50.00</td>\n",
       "      <td>50.00</td>\n",
       "    </tr>\n",
       "    <tr>\n",
       "      <th>4</th>\n",
       "      <td>48.18</td>\n",
       "      <td>51.82</td>\n",
       "    </tr>\n",
       "    <tr>\n",
       "      <th>5</th>\n",
       "      <td>43.69</td>\n",
       "      <td>56.31</td>\n",
       "    </tr>\n",
       "  </tbody>\n",
       "</table>\n",
       "</div>"
      ],
      "text/plain": [
       "satisfied      0      1\n",
       "job_level              \n",
       "1          43.16  56.84\n",
       "2          51.82  48.18\n",
       "3          50.00  50.00\n",
       "4          48.18  51.82\n",
       "5          43.69  56.31"
      ]
     },
     "execution_count": 20,
     "metadata": {},
     "output_type": "execute_result"
    }
   ],
   "source": [
    "(pd.crosstab(index=df[\"job_level\"], columns=df[\"satisfied\"],normalize='index')*100).round(2)"
   ]
  },
  {
   "cell_type": "markdown",
   "metadata": {},
   "source": [
    "# kategorikal"
   ]
  },
  {
   "cell_type": "code",
   "execution_count": 21,
   "metadata": {},
   "outputs": [
    {
     "data": {
      "text/html": [
       "<div>\n",
       "<style scoped>\n",
       "    .dataframe tbody tr th:only-of-type {\n",
       "        vertical-align: middle;\n",
       "    }\n",
       "\n",
       "    .dataframe tbody tr th {\n",
       "        vertical-align: top;\n",
       "    }\n",
       "\n",
       "    .dataframe thead th {\n",
       "        text-align: right;\n",
       "    }\n",
       "</style>\n",
       "<table border=\"1\" class=\"dataframe\">\n",
       "  <thead>\n",
       "    <tr style=\"text-align: right;\">\n",
       "      <th>satisfied</th>\n",
       "      <th>0</th>\n",
       "      <th>1</th>\n",
       "    </tr>\n",
       "    <tr>\n",
       "      <th>location</th>\n",
       "      <th></th>\n",
       "      <th></th>\n",
       "    </tr>\n",
       "  </thead>\n",
       "  <tbody>\n",
       "    <tr>\n",
       "      <th>City</th>\n",
       "      <td>45.95</td>\n",
       "      <td>54.05</td>\n",
       "    </tr>\n",
       "    <tr>\n",
       "      <th>Suburb</th>\n",
       "      <td>48.96</td>\n",
       "      <td>51.04</td>\n",
       "    </tr>\n",
       "  </tbody>\n",
       "</table>\n",
       "</div>"
      ],
      "text/plain": [
       "satisfied      0      1\n",
       "location               \n",
       "City       45.95  54.05\n",
       "Suburb     48.96  51.04"
      ]
     },
     "execution_count": 21,
     "metadata": {},
     "output_type": "execute_result"
    }
   ],
   "source": [
    "(pd.crosstab(index=df[\"location\"], columns=df[\"satisfied\"],normalize='index')*100).round(2)"
   ]
  },
  {
   "cell_type": "markdown",
   "metadata": {},
   "source": [
    "- Karyawan yang tinggal di kota lebih puas dibanding mereka yang tinggal di pinggiran kota\n",
    "- Namun, angkanya tidak terlalu signifikan"
   ]
  },
  {
   "cell_type": "code",
   "execution_count": 22,
   "metadata": {},
   "outputs": [
    {
     "data": {
      "text/html": [
       "<div>\n",
       "<style scoped>\n",
       "    .dataframe tbody tr th:only-of-type {\n",
       "        vertical-align: middle;\n",
       "    }\n",
       "\n",
       "    .dataframe tbody tr th {\n",
       "        vertical-align: top;\n",
       "    }\n",
       "\n",
       "    .dataframe thead th {\n",
       "        text-align: right;\n",
       "    }\n",
       "</style>\n",
       "<table border=\"1\" class=\"dataframe\">\n",
       "  <thead>\n",
       "    <tr style=\"text-align: right;\">\n",
       "      <th>satisfied</th>\n",
       "      <th>0</th>\n",
       "      <th>1</th>\n",
       "    </tr>\n",
       "    <tr>\n",
       "      <th>education</th>\n",
       "      <th></th>\n",
       "      <th></th>\n",
       "    </tr>\n",
       "  </thead>\n",
       "  <tbody>\n",
       "    <tr>\n",
       "      <th>PG</th>\n",
       "      <td>46.06</td>\n",
       "      <td>53.94</td>\n",
       "    </tr>\n",
       "    <tr>\n",
       "      <th>UG</th>\n",
       "      <td>48.78</td>\n",
       "      <td>51.22</td>\n",
       "    </tr>\n",
       "  </tbody>\n",
       "</table>\n",
       "</div>"
      ],
      "text/plain": [
       "satisfied      0      1\n",
       "education              \n",
       "PG         46.06  53.94\n",
       "UG         48.78  51.22"
      ]
     },
     "execution_count": 22,
     "metadata": {},
     "output_type": "execute_result"
    }
   ],
   "source": [
    "(pd.crosstab(index=df[\"education\"], columns=df[\"satisfied\"],normalize='index')*100).round(2)"
   ]
  },
  {
   "cell_type": "markdown",
   "metadata": {},
   "source": [
    "- Mereka yang memiliki level pendidikan Postgraduate lebih puas dibandingkan yang hanya Undergraduate\n",
    "- Namun, angkanya juga tidak terlalu signifikan"
   ]
  },
  {
   "cell_type": "code",
   "execution_count": 30,
   "metadata": {},
   "outputs": [
    {
     "data": {
      "text/html": [
       "<div>\n",
       "<style scoped>\n",
       "    .dataframe tbody tr th:only-of-type {\n",
       "        vertical-align: middle;\n",
       "    }\n",
       "\n",
       "    .dataframe tbody tr th {\n",
       "        vertical-align: top;\n",
       "    }\n",
       "\n",
       "    .dataframe thead th {\n",
       "        text-align: right;\n",
       "    }\n",
       "</style>\n",
       "<table border=\"1\" class=\"dataframe\">\n",
       "  <thead>\n",
       "    <tr style=\"text-align: right;\">\n",
       "      <th>satisfied</th>\n",
       "      <th>0</th>\n",
       "      <th>1</th>\n",
       "    </tr>\n",
       "    <tr>\n",
       "      <th>Dept</th>\n",
       "      <th></th>\n",
       "      <th></th>\n",
       "    </tr>\n",
       "  </thead>\n",
       "  <tbody>\n",
       "    <tr>\n",
       "      <th>HR</th>\n",
       "      <td>50.00</td>\n",
       "      <td>50.00</td>\n",
       "    </tr>\n",
       "    <tr>\n",
       "      <th>Marketing</th>\n",
       "      <td>53.68</td>\n",
       "      <td>46.32</td>\n",
       "    </tr>\n",
       "    <tr>\n",
       "      <th>Purchasing</th>\n",
       "      <td>43.12</td>\n",
       "      <td>56.88</td>\n",
       "    </tr>\n",
       "    <tr>\n",
       "      <th>Sales</th>\n",
       "      <td>44.57</td>\n",
       "      <td>55.43</td>\n",
       "    </tr>\n",
       "    <tr>\n",
       "      <th>Technology</th>\n",
       "      <td>45.92</td>\n",
       "      <td>54.08</td>\n",
       "    </tr>\n",
       "  </tbody>\n",
       "</table>\n",
       "</div>"
      ],
      "text/plain": [
       "satisfied       0      1\n",
       "Dept                    \n",
       "HR          50.00  50.00\n",
       "Marketing   53.68  46.32\n",
       "Purchasing  43.12  56.88\n",
       "Sales       44.57  55.43\n",
       "Technology  45.92  54.08"
      ]
     },
     "execution_count": 30,
     "metadata": {},
     "output_type": "execute_result"
    }
   ],
   "source": [
    "(pd.crosstab(index=df[\"Dept\"], columns=df[\"satisfied\"], normalize=\"index\")*100).round(2)"
   ]
  },
  {
   "cell_type": "markdown",
   "metadata": {},
   "source": [
    "- Departemen yang merasa puas, memiliki skor tertinggi di Purchasing dengan 56% dan terendah di Marketing dengan 46%"
   ]
  },
  {
   "cell_type": "markdown",
   "metadata": {},
   "source": [
    "# Kesimpulan"
   ]
  },
  {
   "cell_type": "markdown",
   "metadata": {},
   "source": [
    "- Index kepuasan karyawan hanya mencapai 52.6%, artinya hampir setengah karyawan tidak puas\n",
    "- Banyak diantara mereka yang tidak puas, masih berada pada posisi entry level dan salary dibawah 40000\n",
    "- Karyawan yang tidak pernah pergi bekerja ke kantor merasa tidak puas\n",
    "- Banyak karyawan di tim Marketing yang merasa tidak puas\n"
   ]
  },
  {
   "cell_type": "code",
   "execution_count": null,
   "metadata": {},
   "outputs": [],
   "source": []
  }
 ],
 "metadata": {
  "kernelspec": {
   "display_name": "Python 3",
   "language": "python",
   "name": "python3"
  },
  "language_info": {
   "codemirror_mode": {
    "name": "ipython",
    "version": 3
   },
   "file_extension": ".py",
   "mimetype": "text/x-python",
   "name": "python",
   "nbconvert_exporter": "python",
   "pygments_lexer": "ipython3",
   "version": "3.8.3"
  }
 },
 "nbformat": 4,
 "nbformat_minor": 4
}
